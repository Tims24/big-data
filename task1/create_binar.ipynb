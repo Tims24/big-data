{
 "cells": [
  {
   "cell_type": "code",
   "execution_count": 3,
   "id": "4f82648a",
   "metadata": {},
   "outputs": [],
   "source": [
    "import numpy as np\n",
    "import os"
   ]
  },
  {
   "cell_type": "code",
   "execution_count": 8,
   "id": "e20fd046",
   "metadata": {},
   "outputs": [
    {
     "name": "stderr",
     "output_type": "stream",
     "text": [
      "<ipython-input-8-8c055b7403ae>:6: DeprecationWarning: Providing a dtype with a non-native byteorder is not supported. If you require platform-independent byteorder, call byteswap when required.\n",
      "In future version, providing byteorder will raise a ValueError\n",
      "  ary = np.random.randint(2, max_value, size = count, dtype = np.dtype('uint32').newbyteorder('B')).byteswap()\n"
     ]
    }
   ],
   "source": [
    "count = 2 * 1024**3 // 4 # how many 32bit integers in 2 GB\n",
    "max_value = np.iinfo(np.uint32).max\n",
    "\n",
    "\n",
    "def generate(count):\n",
    "    data_int = np.random.randint(2, max_value, size = count, dtype = np.dtype('uint32').newbyteorder('B')).byteswap()\n",
    "\n",
    "    with open('int32.txt', 'wb') as file:\n",
    "        file.write(data_int.data)\n",
    "\n",
    "generate(count)"
   ]
  },
  {
   "cell_type": "code",
   "execution_count": null,
   "id": "28f3c240",
   "metadata": {},
   "outputs": [],
   "source": [
    
   ]
  }
 ],
 "metadata": {
  "kernelspec": {
   "display_name": "Python 3",
   "language": "python",
   "name": "python3"
  },
  "language_info": {
   "codemirror_mode": {
    "name": "ipython",
    "version": 3
   },
   "file_extension": ".py",
   "mimetype": "text/x-python",
   "name": "python",
   "nbconvert_exporter": "python",
   "pygments_lexer": "ipython3",
   "version": "3.8.8"
  }
 },
 "nbformat": 4,
 "nbformat_minor": 5
}
